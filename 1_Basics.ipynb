{
  "nbformat": 4,
  "nbformat_minor": 0,
  "metadata": {
    "colab": {
      "name": "1 Basics.ipynb",
      "version": "0.3.2",
      "provenance": [],
      "collapsed_sections": []
    },
    "kernelspec": {
      "name": "python3",
      "display_name": "Python 3"
    }
  },
  "cells": [
    {
      "cell_type": "markdown",
      "metadata": {
        "id": "_Vs_slvEgAEo",
        "colab_type": "text"
      },
      "source": [
        "## Basics\n",
        "\n",
        "1. Create a basic model."
      ]
    },
    {
      "cell_type": "code",
      "metadata": {
        "id": "Sis-FSOuaJq1",
        "colab_type": "code",
        "colab": {}
      },
      "source": [
        "import tensorflow as tf\n",
        "import numpy as np\n",
        "from tensorflow import keras\n",
        "import matplotlib.pyplot as plt"
      ],
      "execution_count": 0,
      "outputs": []
    },
    {
      "cell_type": "code",
      "metadata": {
        "id": "rIcFLMGeaWMM",
        "colab_type": "code",
        "outputId": "44ac1fc0-b63c-4324-8391-835bcdb6aca8",
        "colab": {
          "base_uri": "https://localhost:8080/",
          "height": 52
        }
      },
      "source": [
        "print('Tensorflow version:',tf.__version__)\n",
        "print('Keras version:',keras.__version__)"
      ],
      "execution_count": 0,
      "outputs": [
        {
          "output_type": "stream",
          "text": [
            "Tensorflow version: 1.14.0-rc1\n",
            "Keras version: 2.2.4-tf\n"
          ],
          "name": "stdout"
        }
      ]
    },
    {
      "cell_type": "code",
      "metadata": {
        "id": "VjpXMIfmf00R",
        "colab_type": "code",
        "outputId": "2b77b590-db04-41cc-b26a-ed028fd8edfc",
        "colab": {
          "base_uri": "https://localhost:8080/",
          "height": 52
        }
      },
      "source": [
        "x = np.arange(10)\n",
        "y = x*2\n",
        "print(x)\n",
        "print(y)"
      ],
      "execution_count": 0,
      "outputs": [
        {
          "output_type": "stream",
          "text": [
            "[0 1 2 3 4 5 6 7 8 9]\n",
            "[ 0  2  4  6  8 10 12 14 16 18]\n"
          ],
          "name": "stdout"
        }
      ]
    },
    {
      "cell_type": "code",
      "metadata": {
        "id": "x51ieaI8gIu2",
        "colab_type": "code",
        "colab": {}
      },
      "source": [
        "def load_model():\n",
        "    model = keras.Sequential([\n",
        "        keras.layers.Dense(1, input_shape=[1])\n",
        "    ])\n",
        "    model.compile(optimizer = 'adam',\n",
        "                  loss = keras.losses.mse,\n",
        "                  metrics=['accuracy'])\n",
        "    '''Alternatively we could also type\n",
        "    model.compile(optimizer = 'adam',\n",
        "                  loss = 'mse',\n",
        "                  metrics=['accuracy'])\n",
        "    \n",
        "    '''\n",
        "    return model"
      ],
      "execution_count": 0,
      "outputs": []
    },
    {
      "cell_type": "code",
      "metadata": {
        "id": "CxdEamD8iAV3",
        "colab_type": "code",
        "colab": {}
      },
      "source": [
        "model = load_model()"
      ],
      "execution_count": 0,
      "outputs": []
    },
    {
      "cell_type": "code",
      "metadata": {
        "id": "zugE6LbqiNdm",
        "colab_type": "code",
        "colab": {}
      },
      "source": [
        "#training the model\n",
        "#verbose = 0 - show nothing, 1 - shows progress for each epoch, 2 - shows progress after each epoch\n",
        "history = model.fit(x,y, epochs=500, verbose=0)"
      ],
      "execution_count": 0,
      "outputs": []
    },
    {
      "cell_type": "code",
      "metadata": {
        "id": "D9MWe_UWj7kd",
        "colab_type": "code",
        "outputId": "e419dfe7-18d6-42e3-f99c-1ee15fa6cd86",
        "colab": {
          "base_uri": "https://localhost:8080/",
          "height": 286
        }
      },
      "source": [
        "loss = history.history['loss']\n",
        "acc = history.history['acc']\n",
        "\n",
        "fig, ax = plt.subplots(1, 2)\n",
        "ax[0].plot(np.arange(len(loss)),loss)\n",
        "ax[1].plot(np.arange(len(acc)), acc)"
      ],
      "execution_count": 0,
      "outputs": [
        {
          "output_type": "execute_result",
          "data": {
            "text/plain": [
              "[<matplotlib.lines.Line2D at 0x7f0b5e87d4e0>]"
            ]
          },
          "metadata": {
            "tags": []
          },
          "execution_count": 54
        },
        {
          "output_type": "display_data",
          "data": {
            "image/png": "[encoded data removed]",
            "text/plain": [
              "<Figure size 432x288 with 2 Axes>"
            ]
          },
          "metadata": {
            "tags": []
          }
        }
      ]
    },
    {
      "cell_type": "code",
      "metadata": {
        "id": "oBWaFQoZi-uU",
        "colab_type": "code",
        "outputId": "42ce5722-7b2b-4623-9fa1-5608b6ea7e48",
        "colab": {
          "base_uri": "https://localhost:8080/",
          "height": 34
        }
      },
      "source": [
        "model.predict([9])"
      ],
      "execution_count": 0,
      "outputs": [
        {
          "output_type": "execute_result",
          "data": {
            "text/plain": [
              "array([[17.676422]], dtype=float32)"
            ]
          },
          "metadata": {
            "tags": []
          },
          "execution_count": 55
        }
      ]
    }
  ]
}