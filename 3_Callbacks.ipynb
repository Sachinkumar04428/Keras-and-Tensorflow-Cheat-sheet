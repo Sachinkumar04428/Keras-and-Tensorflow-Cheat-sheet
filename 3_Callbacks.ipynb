{
  "nbformat": 4,
  "nbformat_minor": 0,
  "metadata": {
    "colab": {
      "name": "3 Callbacks.ipynb",
      "version": "0.3.2",
      "provenance": [],
      "collapsed_sections": []
    },
    "kernelspec": {
      "name": "python3",
      "display_name": "Python 3"
    }
  },
  "cells": [
    {
      "cell_type": "markdown",
      "metadata": {
        "id": "2nydFSWsEzpx",
        "colab_type": "text"
      },
      "source": [
        "## Callbacks \n",
        "\n",
        "Callback is abstract classe used to build new callbacks. These are very helpful. Let's dive in."
      ]
    },
    {
      "cell_type": "code",
      "metadata": {
        "id": "g4ilzNurEfZ-",
        "colab_type": "code",
        "colab": {}
      },
      "source": [
        "import tensorflow as tf\n",
        "from tensorflow import keras\n",
        "import numpy as np\n",
        "#no warnings\n",
        "tf.logging.set_verbosity(tf.logging.ERROR)"
      ],
      "execution_count": 0,
      "outputs": []
    },
    {
      "cell_type": "code",
      "metadata": {
        "id": "CQ9RljZ6FyQn",
        "colab_type": "code",
        "colab": {}
      },
      "source": [
        "#concrete class myCallBack from abstract base class keras.callbacks.Callback\n",
        "class myCallBack(keras.callbacks.Callback):\n",
        "    def on_epoch_end(self, epoch, logs={}):\n",
        "        if logs.get('acc')>0.95:\n",
        "            print('Reached an accuracy of 95%. Stopping training.')\n",
        "            #Stop Training after an accuracy of 95%\n",
        "            self.model.stop_training = True"
      ],
      "execution_count": 0,
      "outputs": []
    },
    {
      "cell_type": "code",
      "metadata": {
        "id": "bY9om98vHh7b",
        "colab_type": "code",
        "colab": {}
      },
      "source": [
        "#load the dataset\n",
        "mnist = tf.keras.datasets.mnist\n",
        "(x_train_raw, y_train), (x_test_raw, y_test) = mnist.load_data()\n",
        "\n",
        "#process it\n",
        "x_train = x_train_raw/255.0\n",
        "x_test = x_test_raw/255.0"
      ],
      "execution_count": 0,
      "outputs": []
    },
    {
      "cell_type": "code",
      "metadata": {
        "id": "FL-c9XjqIHwJ",
        "colab_type": "code",
        "colab": {}
      },
      "source": [
        "def load_model():\n",
        "    model = keras.Sequential([\n",
        "        keras.layers.Flatten(input_shape=(28,28)),\n",
        "        keras.layers.Dense(128, input_shape=[784],activation = 'relu'),\n",
        "        keras.layers.Dense(10, activation='softmax')\n",
        "    ])\n",
        "    \n",
        "    model.compile(optimizer = 'adam', loss= keras.losses.sparse_categorical_crossentropy, metrics=['accuracy'])\n",
        "    return model\n",
        "\n",
        "model = load_model()"
      ],
      "execution_count": 0,
      "outputs": []
    },
    {
      "cell_type": "code",
      "metadata": {
        "id": "Q3J7pPNXIjss",
        "colab_type": "code",
        "outputId": "ce3c1932-f492-48a3-d612-25b3d808169b",
        "colab": {
          "base_uri": "https://localhost:8080/",
          "height": 141
        }
      },
      "source": [
        "#instantiating new class\n",
        "callback = myCallBack()\n",
        "\n",
        "#train the model\n",
        "model.fit(x_train, y_train, epochs = 5, callbacks=[callback])"
      ],
      "execution_count": 0,
      "outputs": [
        {
          "output_type": "stream",
          "text": [
            "Epoch 1/5\n",
            "60000/60000 [==============================] - 4s 65us/sample - loss: 0.2546 - acc: 0.9280\n",
            "Epoch 2/5\n",
            "59168/60000 [============================>.] - ETA: 0s - loss: 0.1119 - acc: 0.9674Reached an accuracy of 95%. Stopping training.\n",
            "60000/60000 [==============================] - 4s 63us/sample - loss: 0.1119 - acc: 0.9674\n"
          ],
          "name": "stdout"
        },
        {
          "output_type": "execute_result",
          "data": {
            "text/plain": [
              "<tensorflow.python.keras.callbacks.History at 0x7fbb55507da0>"
            ]
          },
          "metadata": {
            "tags": []
          },
          "execution_count": 21
        }
      ]
    },
    {
      "cell_type": "code",
      "metadata": {
        "id": "kp2lN4zzItVG",
        "colab_type": "code",
        "outputId": "af07a153-64b6-474e-bb8f-c86479644e30",
        "colab": {
          "base_uri": "https://localhost:8080/",
          "height": 89
        }
      },
      "source": [
        "#evaluate the model\n",
        "loss, acc = model.evaluate(x_test, y_test)\n",
        "print('-'*10)\n",
        "print('Test Accuracy =', acc)"
      ],
      "execution_count": 0,
      "outputs": [
        {
          "output_type": "stream",
          "text": [
            "10000/10000 [==============================] - 0s 31us/sample - loss: 0.0997 - acc: 0.9690\n",
            "----------\n",
            "Test Accuracy = 0.969\n"
          ],
          "name": "stdout"
        }
      ]
    }
  ]
}