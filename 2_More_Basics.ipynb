{
  "nbformat": 4,
  "nbformat_minor": 0,
  "metadata": {
    "colab": {
      "name": "2 More Basics.ipynb",
      "version": "0.3.2",
      "provenance": [],
      "collapsed_sections": []
    },
    "kernelspec": {
      "name": "python3",
      "display_name": "Python 3"
    },
    "accelerator": "GPU"
  },
  "cells": [
    {
      "cell_type": "markdown",
      "metadata": {
        "id": "NW9xnGhcmuXa",
        "colab_type": "text"
      },
      "source": [
        "\n",
        "### Basics - 2"
      ]
    },
    {
      "cell_type": "code",
      "metadata": {
        "id": "KAp69i16muEX",
        "colab_type": "code",
        "colab": {}
      },
      "source": [
        "import tensorflow as tf \n",
        "import numpy as np\n",
        "from tensorflow import keras\n",
        "#no tensorflow warnings \n",
        "tf.logging.set_verbosity(tf.logging.ERROR)\n",
        "#no scikit error also\n",
        "def warn(*args, **kwargs):\n",
        "    pass\n",
        "import warnings\n",
        "warnings.warn = warn"
      ],
      "execution_count": 0,
      "outputs": []
    },
    {
      "cell_type": "code",
      "metadata": {
        "id": "AoKJ3vxNmpvA",
        "colab_type": "code",
        "outputId": "73cc3196-b08a-4f69-d32f-b00f7cb60297",
        "colab": {
          "base_uri": "https://localhost:8080/",
          "height": 86
        }
      },
      "source": [
        "#load the dataset\n",
        "mnist = tf.keras.datasets.mnist\n",
        "(x_train_raw, y_train_raw), (x_test_raw, y_test_raw) = mnist.load_data()\n",
        "\n",
        "print('x_train.shape', x_train_raw.shape)\n",
        "print('y_train.shape', y_train_raw.shape)\n",
        "\n",
        "print('x_test_shape', x_test_raw.shape)\n",
        "print('y_test_shape', y_test_raw.shape)"
      ],
      "execution_count": 0,
      "outputs": [
        {
          "output_type": "stream",
          "text": [
            "x_train.shape (60000, 28, 28)\n",
            "y_train.shape (60000,)\n",
            "x_test_shape (10000, 28, 28)\n",
            "y_test_shape (10000,)\n"
          ],
          "name": "stdout"
        }
      ]
    },
    {
      "cell_type": "code",
      "metadata": {
        "id": "jry1B56rpLwo",
        "colab_type": "code",
        "outputId": "1d74f821-df6f-49aa-a3c2-c2a05e87700d",
        "colab": {
          "base_uri": "https://localhost:8080/",
          "height": 34
        }
      },
      "source": [
        "# Data preprocessing\n",
        "from sklearn.preprocessing import StandardScaler\n",
        "\n",
        "x_train = x_train_raw.reshape(60000, -1)\n",
        "\n",
        "scaler = StandardScaler()\n",
        "scaler.fit(x_train, y_train)"
      ],
      "execution_count": 0,
      "outputs": [
        {
          "output_type": "execute_result",
          "data": {
            "text/plain": [
              "StandardScaler(copy=True, with_mean=True, with_std=True)"
            ]
          },
          "metadata": {
            "tags": []
          },
          "execution_count": 18
        }
      ]
    },
    {
      "cell_type": "code",
      "metadata": {
        "id": "0WooiIHM5YbB",
        "colab_type": "code",
        "outputId": "5e0297b6-161c-4d04-a362-1d6a1fbe5d85",
        "colab": {
          "base_uri": "https://localhost:8080/",
          "height": 139
        }
      },
      "source": [
        "scaler.transform(x_train, copy=True)"
      ],
      "execution_count": 0,
      "outputs": [
        {
          "output_type": "execute_result",
          "data": {
            "text/plain": [
              "array([[0., 0., 0., ..., 0., 0., 0.],\n",
              "       [0., 0., 0., ..., 0., 0., 0.],\n",
              "       [0., 0., 0., ..., 0., 0., 0.],\n",
              "       ...,\n",
              "       [0., 0., 0., ..., 0., 0., 0.],\n",
              "       [0., 0., 0., ..., 0., 0., 0.],\n",
              "       [0., 0., 0., ..., 0., 0., 0.]])"
            ]
          },
          "metadata": {
            "tags": []
          },
          "execution_count": 20
        }
      ]
    },
    {
      "cell_type": "code",
      "metadata": {
        "id": "i9GWO9aECMco",
        "colab_type": "code",
        "outputId": "46899197-6314-4f85-dffa-3bb00dc6b928",
        "colab": {
          "base_uri": "https://localhost:8080/",
          "height": 228
        }
      },
      "source": [
        "def load_model():\n",
        "    model = keras.Sequential([\n",
        "        #keras.layers.Flatten(input_shape = (28,28))\n",
        "        keras.layers.Dense(128, input_shape=[784],activation = 'relu'),\n",
        "        keras.layers.Dense(10, activation='softmax')\n",
        "    ])\n",
        "    \n",
        "    model.compile(optimizer = 'adam', loss= keras.losses.sparse_categorical_crossentropy, metrics=['accuracy'])\n",
        "    return model\n",
        "\n",
        "model = load_model()\n",
        "\n",
        "#train the model\n",
        "model.fit(x_train, y_train, epochs = 5)"
      ],
      "execution_count": 0,
      "outputs": [
        {
          "output_type": "stream",
          "text": [
            "Epoch 1/5\n",
            "60000/60000 [==============================] - 6s 95us/sample - loss: 2.7657 - acc: 0.8612\n",
            "Epoch 2/5\n",
            "60000/60000 [==============================] - 5s 84us/sample - loss: 0.3945 - acc: 0.9068\n",
            "Epoch 3/5\n",
            "60000/60000 [==============================] - 5s 83us/sample - loss: 0.2859 - acc: 0.9301\n",
            "Epoch 4/5\n",
            "60000/60000 [==============================] - 5s 83us/sample - loss: 0.2517 - acc: 0.9384\n",
            "Epoch 5/5\n",
            "60000/60000 [==============================] - 5s 82us/sample - loss: 0.2331 - acc: 0.9425\n"
          ],
          "name": "stdout"
        },
        {
          "output_type": "execute_result",
          "data": {
            "text/plain": [
              "<tensorflow.python.keras.callbacks.History at 0x7fbfc14c9ac8>"
            ]
          },
          "metadata": {
            "tags": []
          },
          "execution_count": 21
        }
      ]
    },
    {
      "cell_type": "code",
      "metadata": {
        "id": "9cITsKqRC_JX",
        "colab_type": "code",
        "outputId": "8fa05b36-b038-4443-f1db-6e20aa3aa4e6",
        "colab": {
          "base_uri": "https://localhost:8080/",
          "height": 139
        }
      },
      "source": [
        "#processing the test dataset\n",
        "x_test = x_test.reshape(x_test.shape[0], -1)\n",
        "scaler.transform(x_test)"
      ],
      "execution_count": 0,
      "outputs": [
        {
          "output_type": "execute_result",
          "data": {
            "text/plain": [
              "array([[0., 0., 0., ..., 0., 0., 0.],\n",
              "       [0., 0., 0., ..., 0., 0., 0.],\n",
              "       [0., 0., 0., ..., 0., 0., 0.],\n",
              "       ...,\n",
              "       [0., 0., 0., ..., 0., 0., 0.],\n",
              "       [0., 0., 0., ..., 0., 0., 0.],\n",
              "       [0., 0., 0., ..., 0., 0., 0.]])"
            ]
          },
          "metadata": {
            "tags": []
          },
          "execution_count": 23
        }
      ]
    },
    {
      "cell_type": "code",
      "metadata": {
        "id": "vJlyWVDtDBZ_",
        "colab_type": "code",
        "outputId": "91ed133a-4a7c-4253-b6df-131e634d67c8",
        "colab": {
          "base_uri": "https://localhost:8080/",
          "height": 89
        }
      },
      "source": [
        "#evaluate the model\n",
        "loss, acc = model.evaluate(x_test, y_test)\n",
        "print('loss =',loss)\n",
        "print('accuracy =',acc)"
      ],
      "execution_count": 0,
      "outputs": [
        {
          "output_type": "stream",
          "text": [
            "10000/10000 [==============================] - 1s 56us/sample - loss: 0.3287 - acc: 0.9321\n",
            "loss = 0.3286775451935828\n",
            "accuracy = 0.9321\n"
          ],
          "name": "stdout"
        }
      ]
    }
  ]
}